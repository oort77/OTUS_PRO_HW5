{
 "cells": [
  {
   "cell_type": "code",
   "execution_count": 9,
   "id": "f487d49b",
   "metadata": {},
   "outputs": [
    {
     "data": {
      "application/javascript": [
       "\n",
       "            setTimeout(function() {\n",
       "                var nbb_cell_id = 9;\n",
       "                var nbb_unformatted_code = \"# -*- coding: utf-8 -*-\\n#  File: main.ipynb\\n#  Project: 'OTUS.PRO Homework #5'\\n#  Created by Gennady Matveev (gm@og.ly) on 22-05-2022.\";\n",
       "                var nbb_formatted_code = \"# -*- coding: utf-8 -*-\\n#  File: main.ipynb\\n#  Project: 'OTUS.PRO Homework #5'\\n#  Created by Gennady Matveev (gm@og.ly) on 22-05-2022.\";\n",
       "                var nbb_cells = Jupyter.notebook.get_cells();\n",
       "                for (var i = 0; i < nbb_cells.length; ++i) {\n",
       "                    if (nbb_cells[i].input_prompt_number == nbb_cell_id) {\n",
       "                        if (nbb_cells[i].get_text() == nbb_unformatted_code) {\n",
       "                             nbb_cells[i].set_text(nbb_formatted_code);\n",
       "                        }\n",
       "                        break;\n",
       "                    }\n",
       "                }\n",
       "            }, 500);\n",
       "            "
      ],
      "text/plain": [
       "<IPython.core.display.Javascript object>"
      ]
     },
     "metadata": {},
     "output_type": "display_data"
    }
   ],
   "source": [
    "# -*- coding: utf-8 -*-\n",
    "#  File: parser.ipynb\n",
    "#  Project: 'OTUS.PRO Homework #5'\n",
    "#  Created by Gennady Matveev (gm@og.ly) on 22-05-2022."
   ]
  },
  {
   "cell_type": "markdown",
   "id": "7602a43e",
   "metadata": {},
   "source": [
    "# **$Homework$** **$5$**  \n",
    "**OTUS Machine Learning Professional**"
   ]
  },
  {
   "cell_type": "markdown",
   "id": "581f767d",
   "metadata": {},
   "source": [
    "![Parsing and NLP](https://docs.google.com/uc?export=download&id=10d8UpDr67Ib2_GdlzCK2xVyuVrpNevsh)"
   ]
  },
  {
   "cell_type": "markdown",
   "id": "90a81944",
   "metadata": {},
   "source": [
    "#### Open notebook(s) on mybinder.org"
   ]
  },
  {
   "cell_type": "code",
   "execution_count": null,
   "id": "d92c9938",
   "metadata": {},
   "outputs": [],
   "source": []
  },
  {
   "cell_type": "markdown",
   "id": "7e847f77",
   "metadata": {},
   "source": [
    "### Import libraries"
   ]
  },
  {
   "cell_type": "code",
   "execution_count": null,
   "id": "7d6d43f7",
   "metadata": {},
   "outputs": [],
   "source": [
    "%load_ext nb_black\n",
    "import requests\n",
    "from bs4 import BeautifulSoup\n",
    "import pandas as pd\n",
    "import random\n",
    "import time\n",
    "import re\n",
    "\n",
    "%config InlineBackend.figure_format = 'retina'\n",
    "from IPython.core.display import display, HTML\n",
    "\n",
    "display(HTML(\"<style>.container { width:80% !important; }</style>\"))"
   ]
  },
  {
   "cell_type": "markdown",
   "id": "8ee7e2ff",
   "metadata": {},
   "source": [
    "### Utility functions"
   ]
  },
  {
   "cell_type": "code",
   "execution_count": null,
   "id": "e0ba19d6",
   "metadata": {},
   "outputs": [],
   "source": [
    "# Convert day to month and day\n",
    "def convert_day(day: int) -> tuple[int, int]:\n",
    "    month_days = [31, 28, 31, 30, 31, 30, 31, 31, 30, 31, 30, 31]\n",
    "    m = 0\n",
    "    d = 0\n",
    "    while day > 0:\n",
    "        d = day\n",
    "        day -= month_days[m]\n",
    "        m += 1\n",
    "    return (m, d)\n",
    "\n",
    "\n",
    "# Get claps number\n",
    "def get_claps(claps_str: str) -> int:\n",
    "    if (claps_str is None) or (claps_str == \"\") or (claps_str.split is None):\n",
    "        return 0\n",
    "    split = claps_str.split(\"K\")\n",
    "    claps = float(split[0])\n",
    "    claps = int(claps * 1000) if len(split) == 2 else int(claps)\n",
    "    return claps\n",
    "\n",
    "\n",
    "# Get article cover image\n",
    "def get_img(img_url: str, dest_folder: str, dest_filename: str) -> str:\n",
    "    ext = img_url.split(\".\")[-1]\n",
    "    if len(ext) > 4:\n",
    "        ext = \"jpg\"\n",
    "    dest_filename = f\"{dest_filename}.{ext}\"\n",
    "    with open(f\"{dest_folder}/{dest_filename}\", \"wb\") as f:\n",
    "        f.write(requests.get(img_url, allow_redirects=False).content)\n",
    "    return dest_filename"
   ]
  },
  {
   "cell_type": "markdown",
   "id": "4f82da1b",
   "metadata": {},
   "source": [
    "### Main parser"
   ]
  },
  {
   "cell_type": "code",
   "execution_count": null,
   "id": "f755331c",
   "metadata": {},
   "outputs": [],
   "source": [
    "def parse_medium(urls: str, dest_folder: str) -> pd.DataFrame:\n",
    "    data = []\n",
    "    article_id = 0\n",
    "    year = 2021\n",
    "    # Select number of days in a year at random\n",
    "    selected_days = random.sample([i for i in range(1, 366)], 365)\n",
    "    i = 0\n",
    "    n = len(selected_days)\n",
    "    for d in selected_days:\n",
    "        i += 1\n",
    "        month, day = convert_day(d)\n",
    "        date = \"{0}-{1:02d}-{2:02d}\".format(year, month, day)\n",
    "        print(f\"{i} / {n} ; {date}\")\n",
    "        for publication, url in urls.items():\n",
    "            time.sleep(random.sample([0.5, 1, 1.5, 2, 2.5], 1)[0])\n",
    "            response = requests.get(url.format(year, month, day), allow_redirects=True)\n",
    "            # Skip days with no publications\n",
    "            if not response.url.startswith(url.format(year, month, day)):\n",
    "                continue\n",
    "            page = response.content\n",
    "            soup = BeautifulSoup(page, \"html.parser\")\n",
    "            articles = soup.find_all(\n",
    "                \"div\",\n",
    "                class_=\"postArticle postArticle--short js-postArticle js-trackPostPresentation js-trackPostScrolls\",\n",
    "            )\n",
    "            for article in articles:\n",
    "                title = article.find(\"h3\", class_=\"graf--title\")\n",
    "                if title is None:\n",
    "                    continue\n",
    "                title = title.contents[0]\n",
    "\n",
    "                article_id += 1\n",
    "\n",
    "                author = article.find(\n",
    "                    \"a\",\n",
    "                    class_=\"ds-link ds-link--styleSubtle link link--darken link--accent u-accentColor--textNormal u-accentColor--textDarken\",\n",
    "                ).contents[0]\n",
    "\n",
    "                subtitle = article.find(\"h4\", class_=\"graf--subtitle\")\n",
    "                subtitle = subtitle.contents[0] if subtitle is not None else \"\"\n",
    "\n",
    "                # image = article.find(\"img\", class_=\"graf-image\")\n",
    "                # image = '' if image is None else get_img(image['src'], './data/images', f'{article_id}')\n",
    "\n",
    "                article_url = article.find_all(\"a\")[3][\"href\"].split(\"?\")[0]\n",
    "\n",
    "                if len(article.find_all(\"button\")) > 1:\n",
    "                    claps = get_claps(article.find_all(\"button\")[1].contents[0])\n",
    "\n",
    "                reading_time = article.find(\"span\", class_=\"readingTime\")\n",
    "                reading_time = (\n",
    "                    0\n",
    "                    if reading_time is None\n",
    "                    else int(reading_time[\"title\"].split(\" \")[0])\n",
    "                )\n",
    "\n",
    "                responses = article.find_all(\"a\")\n",
    "                if len(responses) == 7:  # 7\n",
    "                    responses = responses[6].contents[0].split(\" \")\n",
    "                    if len(responses) == 0:\n",
    "                        responses = 0\n",
    "                    else:\n",
    "                        responses = responses[0]\n",
    "                else:\n",
    "                    responses = 0\n",
    "\n",
    "                data.append(\n",
    "                    [\n",
    "                        article_url,\n",
    "                        author,\n",
    "                        title,\n",
    "                        subtitle,\n",
    "                        claps,\n",
    "                        responses,\n",
    "                        reading_time,\n",
    "                        publication,\n",
    "                        date,\n",
    "                    ]\n",
    "                )\n",
    "    medium_df = pd.DataFrame(\n",
    "        data,\n",
    "        columns=[\n",
    "            # \"id\",\n",
    "            \"url\",\n",
    "            \"author\",\n",
    "            \"title\",\n",
    "            \"subtitle\",\n",
    "            \"claps\",\n",
    "            \"responses\",\n",
    "            \"reading_time\",\n",
    "            \"publication\",\n",
    "            \"date\",\n",
    "        ],\n",
    "    )\n",
    "    medium_df[\"responses\"] = medium_df[\"responses\"].astype(int)\n",
    "    # Save to csv file\n",
    "    medium_df.to_csv(dest_folder, index=False)\n",
    "    return medium_df"
   ]
  },
  {
   "cell_type": "markdown",
   "id": "c9cd396b",
   "metadata": {},
   "source": [
    "### Parse it\n",
    "#### Takes about one hour - excersise caution before proceeding)"
   ]
  },
  {
   "cell_type": "code",
   "execution_count": null,
   "id": "43acf0a3",
   "metadata": {},
   "outputs": [],
   "source": [
    "urls = {\n",
    "    \"Towards Data Science\": \"https://towardsdatascience.com/archive/{0}/{1:02d}/{2:02d}\",\n",
    "}\n",
    "\n",
    "destination_folder = \"./data/medium_df.csv\"\n",
    "\n",
    "parse_medium(urls=urls, dest_folder=destination_folder)"
   ]
  }
 ],
 "metadata": {
  "kernelspec": {
   "display_name": "Python 3.9.12",
   "language": "python",
   "name": "py3.9.12"
  },
  "language_info": {
   "codemirror_mode": {
    "name": "ipython",
    "version": 3
   },
   "file_extension": ".py",
   "mimetype": "text/x-python",
   "name": "python",
   "nbconvert_exporter": "python",
   "pygments_lexer": "ipython3",
   "version": "3.9.12"
  }
 },
 "nbformat": 4,
 "nbformat_minor": 5
}
