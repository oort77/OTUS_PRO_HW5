{
 "cells": [
  {
   "cell_type": "code",
   "execution_count": 1,
   "id": "81c1974a",
   "metadata": {},
   "outputs": [],
   "source": [
    "# -*- coding: utf-8 -*-\n",
    "#  File: eda.ipynb\n",
    "#  Project: 'OTUS.PRO Homework #5'\n",
    "#  Created by Gennady Matveev (gm@og.ly) on 22-05-2022."
   ]
  },
  {
   "cell_type": "markdown",
   "id": "26d27586",
   "metadata": {},
   "source": [
    "# **$Homework$** **$5$**  \n",
    "**OTUS Machine Learning Professional**"
   ]
  },
  {
   "cell_type": "markdown",
   "id": "b6e712c1",
   "metadata": {},
   "source": [
    "![Parsing and NLP](https://docs.google.com/uc?export=download&id=10d8UpDr67Ib2_GdlzCK2xVyuVrpNevsh)"
   ]
  },
  {
   "cell_type": "markdown",
   "id": "6c3066a7",
   "metadata": {},
   "source": [
    "#### Open notebook(s) on mybinder.org [![Binder](https://mybinder.org/badge_logo.svg)](https://mybinder.org/v2/gh/oort77/OTUS_PRO_HW5/main)  "
   ]
  },
  {
   "cell_type": "code",
   "execution_count": 2,
   "id": "e8d834cb",
   "metadata": {},
   "outputs": [],
   "source": [
    "%%capture\n",
    "# pip install binsreg"
   ]
  },
  {
   "cell_type": "markdown",
   "id": "01687192",
   "metadata": {},
   "source": [
    "### Import libraries"
   ]
  },
  {
   "cell_type": "code",
   "execution_count": 3,
   "id": "b9c30ff4",
   "metadata": {},
   "outputs": [
    {
     "data": {
      "text/html": [
       "<style>.container { width:80% !important; }</style>"
      ],
      "text/plain": [
       "<IPython.core.display.HTML object>"
      ]
     },
     "metadata": {},
     "output_type": "display_data"
    },
    {
     "data": {
      "application/javascript": [
       "\n",
       "            setTimeout(function() {\n",
       "                var nbb_cell_id = 3;\n",
       "                var nbb_unformatted_code = \"%load_ext nb_black\\nimport matplotlib.pyplot as plt\\nfrom bs4 import BeautifulSoup\\nimport pandas as pd\\nimport numpy as np\\nimport seaborn as sns\\nimport binsreg\\n\\n%matplotlib inline\\nplt.rcParams[\\\"figure.figsize\\\"] = (10, 5)\\n%config InlineBackend.figure_format = 'retina'\\nfrom IPython.core.display import display, HTML\\n\\ndisplay(HTML(\\\"<style>.container { width:80% !important; }</style>\\\"))\";\n",
       "                var nbb_formatted_code = \"%load_ext nb_black\\nimport matplotlib.pyplot as plt\\nfrom bs4 import BeautifulSoup\\nimport pandas as pd\\nimport numpy as np\\nimport seaborn as sns\\nimport binsreg\\n\\n%matplotlib inline\\nplt.rcParams[\\\"figure.figsize\\\"] = (10, 5)\\n%config InlineBackend.figure_format = 'retina'\\nfrom IPython.core.display import display, HTML\\n\\ndisplay(HTML(\\\"<style>.container { width:80% !important; }</style>\\\"))\";\n",
       "                var nbb_cells = Jupyter.notebook.get_cells();\n",
       "                for (var i = 0; i < nbb_cells.length; ++i) {\n",
       "                    if (nbb_cells[i].input_prompt_number == nbb_cell_id) {\n",
       "                        if (nbb_cells[i].get_text() == nbb_unformatted_code) {\n",
       "                             nbb_cells[i].set_text(nbb_formatted_code);\n",
       "                        }\n",
       "                        break;\n",
       "                    }\n",
       "                }\n",
       "            }, 500);\n",
       "            "
      ],
      "text/plain": [
       "<IPython.core.display.Javascript object>"
      ]
     },
     "metadata": {},
     "output_type": "display_data"
    }
   ],
   "source": [
    "%load_ext nb_black\n",
    "import matplotlib.pyplot as plt\n",
    "from bs4 import BeautifulSoup\n",
    "import pandas as pd\n",
    "import numpy as np\n",
    "import seaborn as sns\n",
    "import binsreg\n",
    "\n",
    "%matplotlib inline\n",
    "plt.rcParams[\"figure.figsize\"] = (10, 5)\n",
    "%config InlineBackend.figure_format = 'retina'\n",
    "from IPython.core.display import display, HTML\n",
    "\n",
    "display(HTML(\"<style>.container { width:80% !important; }</style>\"))"
   ]
  },
  {
   "cell_type": "markdown",
   "id": "2ed65031",
   "metadata": {},
   "source": [
    "### Read data"
   ]
  },
  {
   "cell_type": "code",
   "execution_count": 4,
   "id": "b8310423",
   "metadata": {},
   "outputs": [
    {
     "data": {
      "text/html": [
       "<div>\n",
       "<style scoped>\n",
       "    .dataframe tbody tr th:only-of-type {\n",
       "        vertical-align: middle;\n",
       "    }\n",
       "\n",
       "    .dataframe tbody tr th {\n",
       "        vertical-align: top;\n",
       "    }\n",
       "\n",
       "    .dataframe thead th {\n",
       "        text-align: right;\n",
       "    }\n",
       "</style>\n",
       "<table border=\"1\" class=\"dataframe\">\n",
       "  <thead>\n",
       "    <tr style=\"text-align: right;\">\n",
       "      <th></th>\n",
       "      <th>id</th>\n",
       "      <th>url</th>\n",
       "      <th>author</th>\n",
       "      <th>title</th>\n",
       "      <th>subtitle</th>\n",
       "      <th>claps</th>\n",
       "      <th>responses</th>\n",
       "      <th>reading_time</th>\n",
       "      <th>publication</th>\n",
       "      <th>pub_date</th>\n",
       "    </tr>\n",
       "  </thead>\n",
       "  <tbody>\n",
       "    <tr>\n",
       "      <th>0</th>\n",
       "      <td>1</td>\n",
       "      <td>https://towardsdatascience.com/how-to-give-you...</td>\n",
       "      <td>Kasper Müller</td>\n",
       "      <td>How to Give Your Python Code a Magic Touch</td>\n",
       "      <td>Building a powerful polynomial engine for easy...</td>\n",
       "      <td>275</td>\n",
       "      <td>3</td>\n",
       "      <td>6</td>\n",
       "      <td>Towards Data Science</td>\n",
       "      <td>2021-11-02</td>\n",
       "    </tr>\n",
       "    <tr>\n",
       "      <th>1</th>\n",
       "      <td>2</td>\n",
       "      <td>https://towardsdatascience.com/an-experience-o...</td>\n",
       "      <td>Antriksh Goel</td>\n",
       "      <td>An experience of a “Data Ecosystem”</td>\n",
       "      <td>This article talks about how data is treated a...</td>\n",
       "      <td>642</td>\n",
       "      <td>10</td>\n",
       "      <td>11</td>\n",
       "      <td>Towards Data Science</td>\n",
       "      <td>2021-11-02</td>\n",
       "    </tr>\n",
       "    <tr>\n",
       "      <th>2</th>\n",
       "      <td>3</td>\n",
       "      <td>https://towardsdatascience.com/staccato-espres...</td>\n",
       "      <td>Robert McKeon Aloe</td>\n",
       "      <td>Staccato Espresso is Fundamentally Better than...</td>\n",
       "      <td>NaN</td>\n",
       "      <td>41</td>\n",
       "      <td>0</td>\n",
       "      <td>7</td>\n",
       "      <td>Towards Data Science</td>\n",
       "      <td>2021-11-02</td>\n",
       "    </tr>\n",
       "    <tr>\n",
       "      <th>3</th>\n",
       "      <td>4</td>\n",
       "      <td>https://towardsdatascience.com/overfitting-and...</td>\n",
       "      <td>Dmytro Nikolaiev (Dimid)</td>\n",
       "      <td>&lt;strong class=\"markup--strong markup--h3-stron...</td>\n",
       "      <td>&lt;strong class=\"markup--strong markup--h4-stron...</td>\n",
       "      <td>132</td>\n",
       "      <td>2</td>\n",
       "      <td>10</td>\n",
       "      <td>Towards Data Science</td>\n",
       "      <td>2021-11-02</td>\n",
       "    </tr>\n",
       "    <tr>\n",
       "      <th>4</th>\n",
       "      <td>5</td>\n",
       "      <td>https://towardsdatascience.com/why-the-s-t-a-r...</td>\n",
       "      <td>Emma Ding</td>\n",
       "      <td>Why The S.T.A.R Method Does Not Work in Data S...</td>\n",
       "      <td>NaN</td>\n",
       "      <td>364</td>\n",
       "      <td>2</td>\n",
       "      <td>11</td>\n",
       "      <td>Towards Data Science</td>\n",
       "      <td>2021-11-02</td>\n",
       "    </tr>\n",
       "  </tbody>\n",
       "</table>\n",
       "</div>"
      ],
      "text/plain": [
       "   id                                                url  \\\n",
       "0   1  https://towardsdatascience.com/how-to-give-you...   \n",
       "1   2  https://towardsdatascience.com/an-experience-o...   \n",
       "2   3  https://towardsdatascience.com/staccato-espres...   \n",
       "3   4  https://towardsdatascience.com/overfitting-and...   \n",
       "4   5  https://towardsdatascience.com/why-the-s-t-a-r...   \n",
       "\n",
       "                     author  \\\n",
       "0             Kasper Müller   \n",
       "1             Antriksh Goel   \n",
       "2        Robert McKeon Aloe   \n",
       "3  Dmytro Nikolaiev (Dimid)   \n",
       "4                 Emma Ding   \n",
       "\n",
       "                                               title  \\\n",
       "0         How to Give Your Python Code a Magic Touch   \n",
       "1                An experience of a “Data Ecosystem”   \n",
       "2  Staccato Espresso is Fundamentally Better than...   \n",
       "3  <strong class=\"markup--strong markup--h3-stron...   \n",
       "4  Why The S.T.A.R Method Does Not Work in Data S...   \n",
       "\n",
       "                                            subtitle  claps  responses  \\\n",
       "0  Building a powerful polynomial engine for easy...    275          3   \n",
       "1  This article talks about how data is treated a...    642         10   \n",
       "2                                                NaN     41          0   \n",
       "3  <strong class=\"markup--strong markup--h4-stron...    132          2   \n",
       "4                                                NaN    364          2   \n",
       "\n",
       "   reading_time           publication    pub_date  \n",
       "0             6  Towards Data Science  2021-11-02  \n",
       "1            11  Towards Data Science  2021-11-02  \n",
       "2             7  Towards Data Science  2021-11-02  \n",
       "3            10  Towards Data Science  2021-11-02  \n",
       "4            11  Towards Data Science  2021-11-02  "
      ]
     },
     "execution_count": 4,
     "metadata": {},
     "output_type": "execute_result"
    },
    {
     "data": {
      "application/javascript": [
       "\n",
       "            setTimeout(function() {\n",
       "                var nbb_cell_id = 4;\n",
       "                var nbb_unformatted_code = \"medium_df = pd.read_csv(\\\"./data/medium_df.csv\\\")\\nmedium_df.head()\";\n",
       "                var nbb_formatted_code = \"medium_df = pd.read_csv(\\\"./data/medium_df.csv\\\")\\nmedium_df.head()\";\n",
       "                var nbb_cells = Jupyter.notebook.get_cells();\n",
       "                for (var i = 0; i < nbb_cells.length; ++i) {\n",
       "                    if (nbb_cells[i].input_prompt_number == nbb_cell_id) {\n",
       "                        if (nbb_cells[i].get_text() == nbb_unformatted_code) {\n",
       "                             nbb_cells[i].set_text(nbb_formatted_code);\n",
       "                        }\n",
       "                        break;\n",
       "                    }\n",
       "                }\n",
       "            }, 500);\n",
       "            "
      ],
      "text/plain": [
       "<IPython.core.display.Javascript object>"
      ]
     },
     "metadata": {},
     "output_type": "display_data"
    }
   ],
   "source": [
    "medium_df = pd.read_csv(\"./data/medium_df.csv\")\n",
    "medium_df.head()"
   ]
  },
  {
   "cell_type": "code",
   "execution_count": 5,
   "id": "bfac359c",
   "metadata": {},
   "outputs": [
    {
     "data": {
      "text/html": [
       "<div>\n",
       "<style scoped>\n",
       "    .dataframe tbody tr th:only-of-type {\n",
       "        vertical-align: middle;\n",
       "    }\n",
       "\n",
       "    .dataframe tbody tr th {\n",
       "        vertical-align: top;\n",
       "    }\n",
       "\n",
       "    .dataframe thead th {\n",
       "        text-align: right;\n",
       "    }\n",
       "</style>\n",
       "<table border=\"1\" class=\"dataframe\">\n",
       "  <thead>\n",
       "    <tr style=\"text-align: right;\">\n",
       "      <th></th>\n",
       "      <th>id</th>\n",
       "      <th>claps</th>\n",
       "      <th>responses</th>\n",
       "      <th>reading_time</th>\n",
       "    </tr>\n",
       "  </thead>\n",
       "  <tbody>\n",
       "    <tr>\n",
       "      <th>count</th>\n",
       "      <td>12825.000000</td>\n",
       "      <td>12825.000000</td>\n",
       "      <td>12825.000000</td>\n",
       "      <td>12825.000000</td>\n",
       "    </tr>\n",
       "    <tr>\n",
       "      <th>mean</th>\n",
       "      <td>6413.000000</td>\n",
       "      <td>130.152359</td>\n",
       "      <td>1.043509</td>\n",
       "      <td>7.287953</td>\n",
       "    </tr>\n",
       "    <tr>\n",
       "      <th>std</th>\n",
       "      <td>3702.402936</td>\n",
       "      <td>229.372185</td>\n",
       "      <td>2.580363</td>\n",
       "      <td>3.822925</td>\n",
       "    </tr>\n",
       "    <tr>\n",
       "      <th>min</th>\n",
       "      <td>1.000000</td>\n",
       "      <td>0.000000</td>\n",
       "      <td>0.000000</td>\n",
       "      <td>1.000000</td>\n",
       "    </tr>\n",
       "    <tr>\n",
       "      <th>25%</th>\n",
       "      <td>3207.000000</td>\n",
       "      <td>27.000000</td>\n",
       "      <td>0.000000</td>\n",
       "      <td>5.000000</td>\n",
       "    </tr>\n",
       "    <tr>\n",
       "      <th>50%</th>\n",
       "      <td>6413.000000</td>\n",
       "      <td>69.000000</td>\n",
       "      <td>0.000000</td>\n",
       "      <td>6.000000</td>\n",
       "    </tr>\n",
       "    <tr>\n",
       "      <th>75%</th>\n",
       "      <td>9619.000000</td>\n",
       "      <td>148.000000</td>\n",
       "      <td>1.000000</td>\n",
       "      <td>9.000000</td>\n",
       "    </tr>\n",
       "    <tr>\n",
       "      <th>max</th>\n",
       "      <td>12825.000000</td>\n",
       "      <td>5600.000000</td>\n",
       "      <td>87.000000</td>\n",
       "      <td>70.000000</td>\n",
       "    </tr>\n",
       "  </tbody>\n",
       "</table>\n",
       "</div>"
      ],
      "text/plain": [
       "                 id         claps     responses  reading_time\n",
       "count  12825.000000  12825.000000  12825.000000  12825.000000\n",
       "mean    6413.000000    130.152359      1.043509      7.287953\n",
       "std     3702.402936    229.372185      2.580363      3.822925\n",
       "min        1.000000      0.000000      0.000000      1.000000\n",
       "25%     3207.000000     27.000000      0.000000      5.000000\n",
       "50%     6413.000000     69.000000      0.000000      6.000000\n",
       "75%     9619.000000    148.000000      1.000000      9.000000\n",
       "max    12825.000000   5600.000000     87.000000     70.000000"
      ]
     },
     "execution_count": 5,
     "metadata": {},
     "output_type": "execute_result"
    },
    {
     "data": {
      "application/javascript": [
       "\n",
       "            setTimeout(function() {\n",
       "                var nbb_cell_id = 5;\n",
       "                var nbb_unformatted_code = \"medium_df.describe()\";\n",
       "                var nbb_formatted_code = \"medium_df.describe()\";\n",
       "                var nbb_cells = Jupyter.notebook.get_cells();\n",
       "                for (var i = 0; i < nbb_cells.length; ++i) {\n",
       "                    if (nbb_cells[i].input_prompt_number == nbb_cell_id) {\n",
       "                        if (nbb_cells[i].get_text() == nbb_unformatted_code) {\n",
       "                             nbb_cells[i].set_text(nbb_formatted_code);\n",
       "                        }\n",
       "                        break;\n",
       "                    }\n",
       "                }\n",
       "            }, 500);\n",
       "            "
      ],
      "text/plain": [
       "<IPython.core.display.Javascript object>"
      ]
     },
     "metadata": {},
     "output_type": "display_data"
    }
   ],
   "source": [
    "medium_df.describe()"
   ]
  },
  {
   "cell_type": "code",
   "execution_count": 6,
   "id": "23a4375c",
   "metadata": {},
   "outputs": [
    {
     "name": "stdout",
     "output_type": "stream",
     "text": [
      "<class 'pandas.core.frame.DataFrame'>\n",
      "RangeIndex: 12825 entries, 0 to 12824\n",
      "Data columns (total 10 columns):\n",
      " #   Column        Non-Null Count  Dtype \n",
      "---  ------        --------------  ----- \n",
      " 0   id            12825 non-null  int64 \n",
      " 1   url           12825 non-null  object\n",
      " 2   author        12825 non-null  object\n",
      " 3   title         12825 non-null  object\n",
      " 4   subtitle      10291 non-null  object\n",
      " 5   claps         12825 non-null  int64 \n",
      " 6   responses     12825 non-null  int64 \n",
      " 7   reading_time  12825 non-null  int64 \n",
      " 8   publication   12825 non-null  object\n",
      " 9   pub_date      12825 non-null  object\n",
      "dtypes: int64(4), object(6)\n",
      "memory usage: 1002.1+ KB\n"
     ]
    },
    {
     "data": {
      "application/javascript": [
       "\n",
       "            setTimeout(function() {\n",
       "                var nbb_cell_id = 6;\n",
       "                var nbb_unformatted_code = \"medium_df.info()\";\n",
       "                var nbb_formatted_code = \"medium_df.info()\";\n",
       "                var nbb_cells = Jupyter.notebook.get_cells();\n",
       "                for (var i = 0; i < nbb_cells.length; ++i) {\n",
       "                    if (nbb_cells[i].input_prompt_number == nbb_cell_id) {\n",
       "                        if (nbb_cells[i].get_text() == nbb_unformatted_code) {\n",
       "                             nbb_cells[i].set_text(nbb_formatted_code);\n",
       "                        }\n",
       "                        break;\n",
       "                    }\n",
       "                }\n",
       "            }, 500);\n",
       "            "
      ],
      "text/plain": [
       "<IPython.core.display.Javascript object>"
      ]
     },
     "metadata": {},
     "output_type": "display_data"
    }
   ],
   "source": [
    "medium_df.info()"
   ]
  },
  {
   "cell_type": "markdown",
   "id": "3a0d75c7",
   "metadata": {},
   "source": [
    "#### Histogram of claps"
   ]
  },
  {
   "cell_type": "code",
   "execution_count": 7,
   "id": "3a67bd0f",
   "metadata": {},
   "outputs": [
    {
     "data": {
      "image/png": "[encoded data removed]",
      "text/plain": [
       "<Figure size 720x360 with 1 Axes>"
      ]
     },
     "metadata": {
      "image/png": {
       "height": 338,
       "width": 604
      },
      "needs_background": "light"
     },
     "output_type": "display_data"
    },
    {
     "data": {
      "application/javascript": [
       "\n",
       "            setTimeout(function() {\n",
       "                var nbb_cell_id = 7;\n",
       "                var nbb_unformatted_code = \"_ = medium_df[\\\"claps\\\"].hist(bins=100, figsize=(10, 5))\\nplt.suptitle(\\\"Distribution of claps\\\")\\nplt.show()\";\n",
       "                var nbb_formatted_code = \"_ = medium_df[\\\"claps\\\"].hist(bins=100, figsize=(10, 5))\\nplt.suptitle(\\\"Distribution of claps\\\")\\nplt.show()\";\n",
       "                var nbb_cells = Jupyter.notebook.get_cells();\n",
       "                for (var i = 0; i < nbb_cells.length; ++i) {\n",
       "                    if (nbb_cells[i].input_prompt_number == nbb_cell_id) {\n",
       "                        if (nbb_cells[i].get_text() == nbb_unformatted_code) {\n",
       "                             nbb_cells[i].set_text(nbb_formatted_code);\n",
       "                        }\n",
       "                        break;\n",
       "                    }\n",
       "                }\n",
       "            }, 500);\n",
       "            "
      ],
      "text/plain": [
       "<IPython.core.display.Javascript object>"
      ]
     },
     "metadata": {},
     "output_type": "display_data"
    }
   ],
   "source": [
    "_ = medium_df[\"claps\"].hist(bins=100, figsize=(10, 5))\n",
    "plt.suptitle(\"Distribution of claps\")\n",
    "plt.show()"
   ]
  },
  {
   "cell_type": "markdown",
   "id": "ac01e804",
   "metadata": {},
   "source": [
    "#### Histogram of log(claps)"
   ]
  },
  {
   "cell_type": "code",
   "execution_count": 8,
   "id": "9a0e3662",
   "metadata": {},
   "outputs": [
    {
     "data": {
      "image/png": "[encoded data removed]",
      "text/plain": [
       "<Figure size 720x360 with 1 Axes>"
      ]
     },
     "metadata": {
      "image/png": {
       "height": 338,
       "width": 598
      },
      "needs_background": "light"
     },
     "output_type": "display_data"
    },
    {
     "data": {
      "application/javascript": [
       "\n",
       "            setTimeout(function() {\n",
       "                var nbb_cell_id = 8;\n",
       "                var nbb_unformatted_code = \"medium_df[\\\"log_claps\\\"] = medium_df[\\\"claps\\\"].apply(lambda x: np.log1p(x))\\n_ = medium_df[\\\"log_claps\\\"].hist(bins=50, figsize=(10, 5))\\nplt.suptitle(\\\"Distribution of log(claps)\\\")\\nplt.show()\";\n",
       "                var nbb_formatted_code = \"medium_df[\\\"log_claps\\\"] = medium_df[\\\"claps\\\"].apply(lambda x: np.log1p(x))\\n_ = medium_df[\\\"log_claps\\\"].hist(bins=50, figsize=(10, 5))\\nplt.suptitle(\\\"Distribution of log(claps)\\\")\\nplt.show()\";\n",
       "                var nbb_cells = Jupyter.notebook.get_cells();\n",
       "                for (var i = 0; i < nbb_cells.length; ++i) {\n",
       "                    if (nbb_cells[i].input_prompt_number == nbb_cell_id) {\n",
       "                        if (nbb_cells[i].get_text() == nbb_unformatted_code) {\n",
       "                             nbb_cells[i].set_text(nbb_formatted_code);\n",
       "                        }\n",
       "                        break;\n",
       "                    }\n",
       "                }\n",
       "            }, 500);\n",
       "            "
      ],
      "text/plain": [
       "<IPython.core.display.Javascript object>"
      ]
     },
     "metadata": {},
     "output_type": "display_data"
    }
   ],
   "source": [
    "medium_df[\"log_claps\"] = medium_df[\"claps\"].apply(lambda x: np.log1p(x))\n",
    "_ = medium_df[\"log_claps\"].hist(bins=50, figsize=(10, 5))\n",
    "plt.suptitle(\"Distribution of log(claps)\")\n",
    "plt.show()"
   ]
  },
  {
   "cell_type": "markdown",
   "id": "1b44d491",
   "metadata": {},
   "source": [
    "#### Article with max claps"
   ]
  },
  {
   "cell_type": "code",
   "execution_count": 9,
   "id": "c8e6a92c",
   "metadata": {},
   "outputs": [
    {
     "data": {
      "text/html": [
       "<div>\n",
       "<style scoped>\n",
       "    .dataframe tbody tr th:only-of-type {\n",
       "        vertical-align: middle;\n",
       "    }\n",
       "\n",
       "    .dataframe tbody tr th {\n",
       "        vertical-align: top;\n",
       "    }\n",
       "\n",
       "    .dataframe thead th {\n",
       "        text-align: right;\n",
       "    }\n",
       "</style>\n",
       "<table border=\"1\" class=\"dataframe\">\n",
       "  <thead>\n",
       "    <tr style=\"text-align: right;\">\n",
       "      <th></th>\n",
       "      <th>id</th>\n",
       "      <th>url</th>\n",
       "      <th>author</th>\n",
       "      <th>title</th>\n",
       "      <th>subtitle</th>\n",
       "      <th>claps</th>\n",
       "      <th>responses</th>\n",
       "      <th>reading_time</th>\n",
       "      <th>publication</th>\n",
       "      <th>pub_date</th>\n",
       "      <th>log_claps</th>\n",
       "    </tr>\n",
       "  </thead>\n",
       "  <tbody>\n",
       "    <tr>\n",
       "      <th>12315</th>\n",
       "      <td>12316</td>\n",
       "      <td>https://towardsdatascience.com/stop-using-prin...</td>\n",
       "      <td>Khuyen Tran</td>\n",
       "      <td>Stop Using Print to Debug in Python. Use Icecr...</td>\n",
       "      <td>Are you Using Print or Log to Debug your…</td>\n",
       "      <td>5600</td>\n",
       "      <td>28</td>\n",
       "      <td>4</td>\n",
       "      <td>Towards Data Science</td>\n",
       "      <td>2021-01-13</td>\n",
       "      <td>8.6307</td>\n",
       "    </tr>\n",
       "  </tbody>\n",
       "</table>\n",
       "</div>"
      ],
      "text/plain": [
       "          id                                                url       author  \\\n",
       "12315  12316  https://towardsdatascience.com/stop-using-prin...  Khuyen Tran   \n",
       "\n",
       "                                                   title  \\\n",
       "12315  Stop Using Print to Debug in Python. Use Icecr...   \n",
       "\n",
       "                                        subtitle  claps  responses  \\\n",
       "12315  Are you Using Print or Log to Debug your…   5600         28   \n",
       "\n",
       "       reading_time           publication    pub_date  log_claps  \n",
       "12315             4  Towards Data Science  2021-01-13     8.6307  "
      ]
     },
     "execution_count": 9,
     "metadata": {},
     "output_type": "execute_result"
    },
    {
     "data": {
      "application/javascript": [
       "\n",
       "            setTimeout(function() {\n",
       "                var nbb_cell_id = 9;\n",
       "                var nbb_unformatted_code = \"medium_df[medium_df[\\\"log_claps\\\"] == medium_df[\\\"log_claps\\\"].max()]\";\n",
       "                var nbb_formatted_code = \"medium_df[medium_df[\\\"log_claps\\\"] == medium_df[\\\"log_claps\\\"].max()]\";\n",
       "                var nbb_cells = Jupyter.notebook.get_cells();\n",
       "                for (var i = 0; i < nbb_cells.length; ++i) {\n",
       "                    if (nbb_cells[i].input_prompt_number == nbb_cell_id) {\n",
       "                        if (nbb_cells[i].get_text() == nbb_unformatted_code) {\n",
       "                             nbb_cells[i].set_text(nbb_formatted_code);\n",
       "                        }\n",
       "                        break;\n",
       "                    }\n",
       "                }\n",
       "            }, 500);\n",
       "            "
      ],
      "text/plain": [
       "<IPython.core.display.Javascript object>"
      ]
     },
     "metadata": {},
     "output_type": "display_data"
    }
   ],
   "source": [
    "medium_df[medium_df[\"log_claps\"] == medium_df[\"log_claps\"].max()]"
   ]
  },
  {
   "cell_type": "markdown",
   "id": "54e96192",
   "metadata": {},
   "source": [
    "#### Article with max responses"
   ]
  },
  {
   "cell_type": "code",
   "execution_count": 10,
   "id": "2c3fe4ba",
   "metadata": {},
   "outputs": [
    {
     "data": {
      "text/html": [
       "<div>\n",
       "<style scoped>\n",
       "    .dataframe tbody tr th:only-of-type {\n",
       "        vertical-align: middle;\n",
       "    }\n",
       "\n",
       "    .dataframe tbody tr th {\n",
       "        vertical-align: top;\n",
       "    }\n",
       "\n",
       "    .dataframe thead th {\n",
       "        text-align: right;\n",
       "    }\n",
       "</style>\n",
       "<table border=\"1\" class=\"dataframe\">\n",
       "  <thead>\n",
       "    <tr style=\"text-align: right;\">\n",
       "      <th></th>\n",
       "      <th>id</th>\n",
       "      <th>url</th>\n",
       "      <th>author</th>\n",
       "      <th>title</th>\n",
       "      <th>subtitle</th>\n",
       "      <th>claps</th>\n",
       "      <th>responses</th>\n",
       "      <th>reading_time</th>\n",
       "      <th>publication</th>\n",
       "      <th>pub_date</th>\n",
       "      <th>log_claps</th>\n",
       "    </tr>\n",
       "  </thead>\n",
       "  <tbody>\n",
       "    <tr>\n",
       "      <th>7544</th>\n",
       "      <td>7545</td>\n",
       "      <td>https://towardsdatascience.com/data-scientists...</td>\n",
       "      <td>Mikhail Mew</td>\n",
       "      <td>Data Scientists Will be Extinct in 10 Years</td>\n",
       "      <td>And Why It’s Not a Bad Thing</td>\n",
       "      <td>2900</td>\n",
       "      <td>87</td>\n",
       "      <td>4</td>\n",
       "      <td>Towards Data Science</td>\n",
       "      <td>2021-05-10</td>\n",
       "      <td>7.972811</td>\n",
       "    </tr>\n",
       "  </tbody>\n",
       "</table>\n",
       "</div>"
      ],
      "text/plain": [
       "        id                                                url       author  \\\n",
       "7544  7545  https://towardsdatascience.com/data-scientists...  Mikhail Mew   \n",
       "\n",
       "                                            title  \\\n",
       "7544  Data Scientists Will be Extinct in 10 Years   \n",
       "\n",
       "                          subtitle  claps  responses  reading_time  \\\n",
       "7544  And Why It’s Not a Bad Thing   2900         87             4   \n",
       "\n",
       "               publication    pub_date  log_claps  \n",
       "7544  Towards Data Science  2021-05-10   7.972811  "
      ]
     },
     "execution_count": 10,
     "metadata": {},
     "output_type": "execute_result"
    },
    {
     "data": {
      "application/javascript": [
       "\n",
       "            setTimeout(function() {\n",
       "                var nbb_cell_id = 10;\n",
       "                var nbb_unformatted_code = \"medium_df[medium_df[\\\"responses\\\"] == medium_df[\\\"responses\\\"].max()]\";\n",
       "                var nbb_formatted_code = \"medium_df[medium_df[\\\"responses\\\"] == medium_df[\\\"responses\\\"].max()]\";\n",
       "                var nbb_cells = Jupyter.notebook.get_cells();\n",
       "                for (var i = 0; i < nbb_cells.length; ++i) {\n",
       "                    if (nbb_cells[i].input_prompt_number == nbb_cell_id) {\n",
       "                        if (nbb_cells[i].get_text() == nbb_unformatted_code) {\n",
       "                             nbb_cells[i].set_text(nbb_formatted_code);\n",
       "                        }\n",
       "                        break;\n",
       "                    }\n",
       "                }\n",
       "            }, 500);\n",
       "            "
      ],
      "text/plain": [
       "<IPython.core.display.Javascript object>"
      ]
     },
     "metadata": {},
     "output_type": "display_data"
    }
   ],
   "source": [
    "medium_df[medium_df[\"responses\"] == medium_df[\"responses\"].max()]"
   ]
  },
  {
   "cell_type": "markdown",
   "id": "fff3a2c4",
   "metadata": {},
   "source": [
    "#### Histogram of responses"
   ]
  },
  {
   "cell_type": "code",
   "execution_count": 11,
   "id": "aa48d4b8",
   "metadata": {},
   "outputs": [
    {
     "data": {
      "image/png": "[encoded data removed]",
      "text/plain": [
       "<Figure size 720x360 with 1 Axes>"
      ]
     },
     "metadata": {
      "image/png": {
       "height": 338,
       "width": 604
      },
      "needs_background": "light"
     },
     "output_type": "display_data"
    },
    {
     "data": {
      "application/javascript": [
       "\n",
       "            setTimeout(function() {\n",
       "                var nbb_cell_id = 11;\n",
       "                var nbb_unformatted_code = \"medium_df[\\\"log_responses\\\"] = medium_df[\\\"responses\\\"].apply(lambda x: np.log1p(x))\\nmedium_df[\\\"log_responses\\\"].hist(bins=10, figsize=(10, 5))\\nplt.suptitle(\\\"Distribution of log(responses)\\\")\\nplt.show()\";\n",
       "                var nbb_formatted_code = \"medium_df[\\\"log_responses\\\"] = medium_df[\\\"responses\\\"].apply(lambda x: np.log1p(x))\\nmedium_df[\\\"log_responses\\\"].hist(bins=10, figsize=(10, 5))\\nplt.suptitle(\\\"Distribution of log(responses)\\\")\\nplt.show()\";\n",
       "                var nbb_cells = Jupyter.notebook.get_cells();\n",
       "                for (var i = 0; i < nbb_cells.length; ++i) {\n",
       "                    if (nbb_cells[i].input_prompt_number == nbb_cell_id) {\n",
       "                        if (nbb_cells[i].get_text() == nbb_unformatted_code) {\n",
       "                             nbb_cells[i].set_text(nbb_formatted_code);\n",
       "                        }\n",
       "                        break;\n",
       "                    }\n",
       "                }\n",
       "            }, 500);\n",
       "            "
      ],
      "text/plain": [
       "<IPython.core.display.Javascript object>"
      ]
     },
     "metadata": {},
     "output_type": "display_data"
    }
   ],
   "source": [
    "medium_df[\"log_responses\"] = medium_df[\"responses\"].apply(lambda x: np.log1p(x))\n",
    "medium_df[\"log_responses\"].hist(bins=10, figsize=(10, 5))\n",
    "plt.suptitle(\"Distribution of log(responses)\")\n",
    "plt.show()"
   ]
  },
  {
   "cell_type": "markdown",
   "id": "2a2a2132",
   "metadata": {},
   "source": [
    "####  Correlations"
   ]
  },
  {
   "cell_type": "code",
   "execution_count": 12,
   "id": "cbbb8208",
   "metadata": {},
   "outputs": [
    {
     "data": {
      "text/html": [
       "<div>\n",
       "<style scoped>\n",
       "    .dataframe tbody tr th:only-of-type {\n",
       "        vertical-align: middle;\n",
       "    }\n",
       "\n",
       "    .dataframe tbody tr th {\n",
       "        vertical-align: top;\n",
       "    }\n",
       "\n",
       "    .dataframe thead th {\n",
       "        text-align: right;\n",
       "    }\n",
       "</style>\n",
       "<table border=\"1\" class=\"dataframe\">\n",
       "  <thead>\n",
       "    <tr style=\"text-align: right;\">\n",
       "      <th></th>\n",
       "      <th>id</th>\n",
       "      <th>claps</th>\n",
       "      <th>responses</th>\n",
       "      <th>reading_time</th>\n",
       "      <th>log_claps</th>\n",
       "      <th>log_responses</th>\n",
       "    </tr>\n",
       "  </thead>\n",
       "  <tbody>\n",
       "    <tr>\n",
       "      <th>id</th>\n",
       "      <td>1.000000</td>\n",
       "      <td>-0.004856</td>\n",
       "      <td>-0.007388</td>\n",
       "      <td>-0.005300</td>\n",
       "      <td>-0.006377</td>\n",
       "      <td>0.001769</td>\n",
       "    </tr>\n",
       "    <tr>\n",
       "      <th>claps</th>\n",
       "      <td>-0.004856</td>\n",
       "      <td>1.000000</td>\n",
       "      <td>0.636416</td>\n",
       "      <td>0.050699</td>\n",
       "      <td>0.653420</td>\n",
       "      <td>0.485915</td>\n",
       "    </tr>\n",
       "    <tr>\n",
       "      <th>responses</th>\n",
       "      <td>-0.007388</td>\n",
       "      <td>0.636416</td>\n",
       "      <td>1.000000</td>\n",
       "      <td>-0.001966</td>\n",
       "      <td>0.398272</td>\n",
       "      <td>0.808594</td>\n",
       "    </tr>\n",
       "    <tr>\n",
       "      <th>reading_time</th>\n",
       "      <td>-0.005300</td>\n",
       "      <td>0.050699</td>\n",
       "      <td>-0.001966</td>\n",
       "      <td>1.000000</td>\n",
       "      <td>0.084695</td>\n",
       "      <td>-0.001109</td>\n",
       "    </tr>\n",
       "    <tr>\n",
       "      <th>log_claps</th>\n",
       "      <td>-0.006377</td>\n",
       "      <td>0.653420</td>\n",
       "      <td>0.398272</td>\n",
       "      <td>0.084695</td>\n",
       "      <td>1.000000</td>\n",
       "      <td>0.452670</td>\n",
       "    </tr>\n",
       "    <tr>\n",
       "      <th>log_responses</th>\n",
       "      <td>0.001769</td>\n",
       "      <td>0.485915</td>\n",
       "      <td>0.808594</td>\n",
       "      <td>-0.001109</td>\n",
       "      <td>0.452670</td>\n",
       "      <td>1.000000</td>\n",
       "    </tr>\n",
       "  </tbody>\n",
       "</table>\n",
       "</div>"
      ],
      "text/plain": [
       "                     id     claps  responses  reading_time  log_claps  \\\n",
       "id             1.000000 -0.004856  -0.007388     -0.005300  -0.006377   \n",
       "claps         -0.004856  1.000000   0.636416      0.050699   0.653420   \n",
       "responses     -0.007388  0.636416   1.000000     -0.001966   0.398272   \n",
       "reading_time  -0.005300  0.050699  -0.001966      1.000000   0.084695   \n",
       "log_claps     -0.006377  0.653420   0.398272      0.084695   1.000000   \n",
       "log_responses  0.001769  0.485915   0.808594     -0.001109   0.452670   \n",
       "\n",
       "               log_responses  \n",
       "id                  0.001769  \n",
       "claps               0.485915  \n",
       "responses           0.808594  \n",
       "reading_time       -0.001109  \n",
       "log_claps           0.452670  \n",
       "log_responses       1.000000  "
      ]
     },
     "execution_count": 12,
     "metadata": {},
     "output_type": "execute_result"
    },
    {
     "data": {
      "application/javascript": [
       "\n",
       "            setTimeout(function() {\n",
       "                var nbb_cell_id = 12;\n",
       "                var nbb_unformatted_code = \"corr = medium_df.corr(\\\"pearson\\\")\\ncorr\";\n",
       "                var nbb_formatted_code = \"corr = medium_df.corr(\\\"pearson\\\")\\ncorr\";\n",
       "                var nbb_cells = Jupyter.notebook.get_cells();\n",
       "                for (var i = 0; i < nbb_cells.length; ++i) {\n",
       "                    if (nbb_cells[i].input_prompt_number == nbb_cell_id) {\n",
       "                        if (nbb_cells[i].get_text() == nbb_unformatted_code) {\n",
       "                             nbb_cells[i].set_text(nbb_formatted_code);\n",
       "                        }\n",
       "                        break;\n",
       "                    }\n",
       "                }\n",
       "            }, 500);\n",
       "            "
      ],
      "text/plain": [
       "<IPython.core.display.Javascript object>"
      ]
     },
     "metadata": {},
     "output_type": "display_data"
    }
   ],
   "source": [
    "corr = medium_df.corr(\"pearson\")\n",
    "corr"
   ]
  },
  {
   "cell_type": "markdown",
   "id": "e28713ee",
   "metadata": {},
   "source": [
    "OBSERVATION: the highest correlated are claps/log_claps and log_responses variables"
   ]
  },
  {
   "cell_type": "markdown",
   "id": "cfe97e0c",
   "metadata": {},
   "source": [
    "#### Claps vs Responses"
   ]
  },
  {
   "cell_type": "code",
   "execution_count": 13,
   "id": "dc3b213f",
   "metadata": {},
   "outputs": [
    {
     "data": {
      "image/png": "[encoded data removed]",
      "text/plain": [
       "<Figure size 720x360 with 1 Axes>"
      ]
     },
     "metadata": {
      "image/png": {
       "height": 352,
       "width": 599
      },
      "needs_background": "light"
     },
     "output_type": "display_data"
    },
    {
     "data": {
      "application/javascript": [
       "\n",
       "            setTimeout(function() {\n",
       "                var nbb_cell_id = 13;\n",
       "                var nbb_unformatted_code = \"_ = medium_df.plot(kind='scatter', y='log_claps', x='log_responses', alpha=0.1)\\nplt.suptitle(\\\"Claps vs Responses, log-log\\\")\\nplt.show()\";\n",
       "                var nbb_formatted_code = \"_ = medium_df.plot(kind=\\\"scatter\\\", y=\\\"log_claps\\\", x=\\\"log_responses\\\", alpha=0.1)\\nplt.suptitle(\\\"Claps vs Responses, log-log\\\")\\nplt.show()\";\n",
       "                var nbb_cells = Jupyter.notebook.get_cells();\n",
       "                for (var i = 0; i < nbb_cells.length; ++i) {\n",
       "                    if (nbb_cells[i].input_prompt_number == nbb_cell_id) {\n",
       "                        if (nbb_cells[i].get_text() == nbb_unformatted_code) {\n",
       "                             nbb_cells[i].set_text(nbb_formatted_code);\n",
       "                        }\n",
       "                        break;\n",
       "                    }\n",
       "                }\n",
       "            }, 500);\n",
       "            "
      ],
      "text/plain": [
       "<IPython.core.display.Javascript object>"
      ]
     },
     "metadata": {},
     "output_type": "display_data"
    }
   ],
   "source": [
    "_ = medium_df.plot(kind=\"scatter\", y=\"log_claps\", x=\"log_responses\", alpha=0.1)\n",
    "plt.suptitle(\"Claps vs Responses, log-log\")\n",
    "plt.show()"
   ]
  },
  {
   "cell_type": "markdown",
   "id": "d631f889",
   "metadata": {},
   "source": [
    "OBSERVATION: there is some sort of linear dependency with very high dispersion at smaller number of responses."
   ]
  },
  {
   "cell_type": "markdown",
   "id": "f1892514",
   "metadata": {},
   "source": [
    "#### Let's apply binsreg to have a better look on how reading time affects claps-responses relationship"
   ]
  },
  {
   "cell_type": "code",
   "execution_count": 14,
   "id": "2fdcf521",
   "metadata": {},
   "outputs": [
    {
     "data": {
      "application/javascript": [
       "\n",
       "            setTimeout(function() {\n",
       "                var nbb_cell_id = 14;\n",
       "                var nbb_unformatted_code = \"def binscatter(**kwargs):\\n    # Estimate binsreg\\n    est = binsreg.binsreg(nbins=20, **kwargs)\\n\\n    # Retrieve estimates\\n    df_est = pd.concat([d.dots for d in est.data_plot])\\n    df_est = df_est.rename(columns={\\\"x\\\": kwargs.get(\\\"x\\\"), \\\"fit\\\": kwargs.get(\\\"y\\\")})\\n\\n    # Add confidence intervals\\n    if \\\"ci\\\" in kwargs:\\n        df_est = pd.merge(df_est, pd.concat([d.ci for d in est.data_plot]))\\n        df_est = df_est.drop(columns=[\\\"x\\\"])\\n        df_est[\\\"ci\\\"] = df_est[\\\"ci_r\\\"] - df_est[\\\"ci_l\\\"]\\n\\n    # Rename groups\\n    if \\\"by\\\" in kwargs:\\n        df_est[\\\"group\\\"] = df_est[\\\"group\\\"].astype(medium_df[kwargs.get(\\\"by\\\")].dtype)\\n        df_est = df_est.rename(columns={\\\"group\\\": kwargs.get(\\\"by\\\")})\\n\\n    return df_est\";\n",
       "                var nbb_formatted_code = \"def binscatter(**kwargs):\\n    # Estimate binsreg\\n    est = binsreg.binsreg(nbins=20, **kwargs)\\n\\n    # Retrieve estimates\\n    df_est = pd.concat([d.dots for d in est.data_plot])\\n    df_est = df_est.rename(columns={\\\"x\\\": kwargs.get(\\\"x\\\"), \\\"fit\\\": kwargs.get(\\\"y\\\")})\\n\\n    # Add confidence intervals\\n    if \\\"ci\\\" in kwargs:\\n        df_est = pd.merge(df_est, pd.concat([d.ci for d in est.data_plot]))\\n        df_est = df_est.drop(columns=[\\\"x\\\"])\\n        df_est[\\\"ci\\\"] = df_est[\\\"ci_r\\\"] - df_est[\\\"ci_l\\\"]\\n\\n    # Rename groups\\n    if \\\"by\\\" in kwargs:\\n        df_est[\\\"group\\\"] = df_est[\\\"group\\\"].astype(medium_df[kwargs.get(\\\"by\\\")].dtype)\\n        df_est = df_est.rename(columns={\\\"group\\\": kwargs.get(\\\"by\\\")})\\n\\n    return df_est\";\n",
       "                var nbb_cells = Jupyter.notebook.get_cells();\n",
       "                for (var i = 0; i < nbb_cells.length; ++i) {\n",
       "                    if (nbb_cells[i].input_prompt_number == nbb_cell_id) {\n",
       "                        if (nbb_cells[i].get_text() == nbb_unformatted_code) {\n",
       "                             nbb_cells[i].set_text(nbb_formatted_code);\n",
       "                        }\n",
       "                        break;\n",
       "                    }\n",
       "                }\n",
       "            }, 500);\n",
       "            "
      ],
      "text/plain": [
       "<IPython.core.display.Javascript object>"
      ]
     },
     "metadata": {},
     "output_type": "display_data"
    }
   ],
   "source": [
    "def binscatter(**kwargs):\n",
    "    # Estimate binsreg\n",
    "    est = binsreg.binsreg(nbins=20, **kwargs)\n",
    "\n",
    "    # Retrieve estimates\n",
    "    df_est = pd.concat([d.dots for d in est.data_plot])\n",
    "    df_est = df_est.rename(columns={\"x\": kwargs.get(\"x\"), \"fit\": kwargs.get(\"y\")})\n",
    "\n",
    "    # Add confidence intervals\n",
    "    if \"ci\" in kwargs:\n",
    "        df_est = pd.merge(df_est, pd.concat([d.ci for d in est.data_plot]))\n",
    "        df_est = df_est.drop(columns=[\"x\"])\n",
    "        df_est[\"ci\"] = df_est[\"ci_r\"] - df_est[\"ci_l\"]\n",
    "\n",
    "    # Rename groups\n",
    "    if \"by\" in kwargs:\n",
    "        df_est[\"group\"] = df_est[\"group\"].astype(medium_df[kwargs.get(\"by\")].dtype)\n",
    "        df_est = df_est.rename(columns={\"group\": kwargs.get(\"by\")})\n",
    "\n",
    "    return df_est"
   ]
  },
  {
   "cell_type": "markdown",
   "id": "6ae69710",
   "metadata": {},
   "source": [
    "#### Split data by reading time: 10 minutes or longer is considered a tldr"
   ]
  },
  {
   "cell_type": "code",
   "execution_count": 15,
   "id": "3aa098b8",
   "metadata": {},
   "outputs": [
    {
     "data": {
      "text/html": [
       "<div>\n",
       "<style scoped>\n",
       "    .dataframe tbody tr th:only-of-type {\n",
       "        vertical-align: middle;\n",
       "    }\n",
       "\n",
       "    .dataframe tbody tr th {\n",
       "        vertical-align: top;\n",
       "    }\n",
       "\n",
       "    .dataframe thead th {\n",
       "        text-align: right;\n",
       "    }\n",
       "</style>\n",
       "<table border=\"1\" class=\"dataframe\">\n",
       "  <thead>\n",
       "    <tr style=\"text-align: right;\">\n",
       "      <th></th>\n",
       "      <th>tldr</th>\n",
       "      <th>log_claps</th>\n",
       "      <th>bin</th>\n",
       "      <th>isknot</th>\n",
       "      <th>mid</th>\n",
       "      <th>log_responses</th>\n",
       "      <th>ci_l</th>\n",
       "      <th>ci_r</th>\n",
       "      <th>ci</th>\n",
       "    </tr>\n",
       "  </thead>\n",
       "  <tbody>\n",
       "    <tr>\n",
       "      <th>0</th>\n",
       "      <td>0</td>\n",
       "      <td>1.438852</td>\n",
       "      <td>0</td>\n",
       "      <td>0</td>\n",
       "      <td>0</td>\n",
       "      <td>0.123156</td>\n",
       "      <td>0.053897</td>\n",
       "      <td>0.109976</td>\n",
       "      <td>0.056079</td>\n",
       "    </tr>\n",
       "    <tr>\n",
       "      <th>1</th>\n",
       "      <td>0</td>\n",
       "      <td>2.249647</td>\n",
       "      <td>1</td>\n",
       "      <td>0</td>\n",
       "      <td>0</td>\n",
       "      <td>0.120961</td>\n",
       "      <td>0.113641</td>\n",
       "      <td>0.161728</td>\n",
       "      <td>0.048087</td>\n",
       "    </tr>\n",
       "    <tr>\n",
       "      <th>2</th>\n",
       "      <td>0</td>\n",
       "      <td>2.638680</td>\n",
       "      <td>2</td>\n",
       "      <td>0</td>\n",
       "      <td>0</td>\n",
       "      <td>0.170206</td>\n",
       "      <td>0.140252</td>\n",
       "      <td>0.189408</td>\n",
       "      <td>0.049156</td>\n",
       "    </tr>\n",
       "    <tr>\n",
       "      <th>3</th>\n",
       "      <td>0</td>\n",
       "      <td>2.943943</td>\n",
       "      <td>3</td>\n",
       "      <td>0</td>\n",
       "      <td>0</td>\n",
       "      <td>0.178167</td>\n",
       "      <td>0.158757</td>\n",
       "      <td>0.210560</td>\n",
       "      <td>0.051803</td>\n",
       "    </tr>\n",
       "    <tr>\n",
       "      <th>4</th>\n",
       "      <td>0</td>\n",
       "      <td>3.171226</td>\n",
       "      <td>4</td>\n",
       "      <td>0</td>\n",
       "      <td>0</td>\n",
       "      <td>0.218411</td>\n",
       "      <td>0.181060</td>\n",
       "      <td>0.237966</td>\n",
       "      <td>0.056906</td>\n",
       "    </tr>\n",
       "  </tbody>\n",
       "</table>\n",
       "</div>"
      ],
      "text/plain": [
       "   tldr  log_claps  bin  isknot  mid  log_responses      ci_l      ci_r  \\\n",
       "0     0   1.438852    0       0    0       0.123156  0.053897  0.109976   \n",
       "1     0   2.249647    1       0    0       0.120961  0.113641  0.161728   \n",
       "2     0   2.638680    2       0    0       0.170206  0.140252  0.189408   \n",
       "3     0   2.943943    3       0    0       0.178167  0.158757  0.210560   \n",
       "4     0   3.171226    4       0    0       0.218411  0.181060  0.237966   \n",
       "\n",
       "         ci  \n",
       "0  0.056079  \n",
       "1  0.048087  \n",
       "2  0.049156  \n",
       "3  0.051803  \n",
       "4  0.056906  "
      ]
     },
     "execution_count": 15,
     "metadata": {},
     "output_type": "execute_result"
    },
    {
     "data": {
      "application/javascript": [
       "\n",
       "            setTimeout(function() {\n",
       "                var nbb_cell_id = 15;\n",
       "                var nbb_unformatted_code = \"tldr_cutoff = 10\\nmedium_df[\\\"tldr\\\"] = medium_df[\\\"reading_time\\\"].apply(\\n    lambda x: 0 if x <= tldr_cutoff else 1\\n)\\n\\n# Estimate binsreg\\ndf_est = binscatter(\\n    y=\\\"log_responses\\\", x=\\\"log_claps\\\", by=\\\"tldr\\\", data=medium_df, ci=(3, 3)\\n)  # w=['reading_time'],, by='tldr',\\ndf_est.head()\";\n",
       "                var nbb_formatted_code = \"tldr_cutoff = 10\\nmedium_df[\\\"tldr\\\"] = medium_df[\\\"reading_time\\\"].apply(\\n    lambda x: 0 if x <= tldr_cutoff else 1\\n)\\n\\n# Estimate binsreg\\ndf_est = binscatter(\\n    y=\\\"log_responses\\\", x=\\\"log_claps\\\", by=\\\"tldr\\\", data=medium_df, ci=(3, 3)\\n)  # w=['reading_time'],, by='tldr',\\ndf_est.head()\";\n",
       "                var nbb_cells = Jupyter.notebook.get_cells();\n",
       "                for (var i = 0; i < nbb_cells.length; ++i) {\n",
       "                    if (nbb_cells[i].input_prompt_number == nbb_cell_id) {\n",
       "                        if (nbb_cells[i].get_text() == nbb_unformatted_code) {\n",
       "                             nbb_cells[i].set_text(nbb_formatted_code);\n",
       "                        }\n",
       "                        break;\n",
       "                    }\n",
       "                }\n",
       "            }, 500);\n",
       "            "
      ],
      "text/plain": [
       "<IPython.core.display.Javascript object>"
      ]
     },
     "metadata": {},
     "output_type": "display_data"
    }
   ],
   "source": [
    "tldr_cutoff = 10\n",
    "medium_df[\"tldr\"] = medium_df[\"reading_time\"].apply(\n",
    "    lambda x: 0 if x <= tldr_cutoff else 1\n",
    ")\n",
    "\n",
    "# Estimate binsreg\n",
    "df_est = binscatter(\n",
    "    y=\"log_responses\", x=\"log_claps\", by=\"tldr\", data=medium_df, ci=(3, 3)\n",
    ")  # w=['reading_time'],, by='tldr',\n",
    "df_est.head()"
   ]
  },
  {
   "cell_type": "code",
   "execution_count": 16,
   "id": "34bffc7e",
   "metadata": {},
   "outputs": [
    {
     "data": {
      "image/png": "[encoded data removed]",
      "text/plain": [
       "<Figure size 720x360 with 1 Axes>"
      ]
     },
     "metadata": {
      "image/png": {
       "height": 346,
       "width": 617
      },
      "needs_background": "light"
     },
     "output_type": "display_data"
    },
    {
     "data": {
      "application/javascript": [
       "\n",
       "            setTimeout(function() {\n",
       "                var nbb_cell_id = 16;\n",
       "                var nbb_unformatted_code = \"sns.scatterplot(\\n    x=\\\"log_claps\\\", y=\\\"log_responses\\\", data=df_est, hue=\\\"tldr\\\",\\n)\\nplt.errorbar(\\n    \\\"log_claps\\\",\\n    \\\"log_responses\\\",\\n    yerr=\\\"ci\\\",\\n    data=df_est.query(\\\"tldr==0\\\"),\\n    ls=\\\"\\\",\\n    lw=2,\\n    alpha=0.7,\\n)\\n# ,color='green'\\nplt.errorbar(\\n    \\\"log_claps\\\",\\n    \\\"log_responses\\\",\\n    yerr=\\\"ci\\\",\\n    data=df_est.query(\\\"tldr==1\\\"),\\n    ls=\\\"\\\",\\n    lw=2,\\n    alpha=0.7,\\n)\\nsns.regplot(x=\\\"log_claps\\\", y=\\\"log_responses\\\", data=df_est, color=\\\"black\\\", scatter=False)\\nplt.title(f\\\"Responses vs claps, log-log scale\\\\nTLDR cutoff = {tldr_cutoff} minutes\\\")\\nplt.show()\";\n",
       "                var nbb_formatted_code = \"sns.scatterplot(\\n    x=\\\"log_claps\\\", y=\\\"log_responses\\\", data=df_est, hue=\\\"tldr\\\",\\n)\\nplt.errorbar(\\n    \\\"log_claps\\\",\\n    \\\"log_responses\\\",\\n    yerr=\\\"ci\\\",\\n    data=df_est.query(\\\"tldr==0\\\"),\\n    ls=\\\"\\\",\\n    lw=2,\\n    alpha=0.7,\\n)\\n# ,color='green'\\nplt.errorbar(\\n    \\\"log_claps\\\",\\n    \\\"log_responses\\\",\\n    yerr=\\\"ci\\\",\\n    data=df_est.query(\\\"tldr==1\\\"),\\n    ls=\\\"\\\",\\n    lw=2,\\n    alpha=0.7,\\n)\\nsns.regplot(x=\\\"log_claps\\\", y=\\\"log_responses\\\", data=df_est, color=\\\"black\\\", scatter=False)\\nplt.title(f\\\"Responses vs claps, log-log scale\\\\nTLDR cutoff = {tldr_cutoff} minutes\\\")\\nplt.show()\";\n",
       "                var nbb_cells = Jupyter.notebook.get_cells();\n",
       "                for (var i = 0; i < nbb_cells.length; ++i) {\n",
       "                    if (nbb_cells[i].input_prompt_number == nbb_cell_id) {\n",
       "                        if (nbb_cells[i].get_text() == nbb_unformatted_code) {\n",
       "                             nbb_cells[i].set_text(nbb_formatted_code);\n",
       "                        }\n",
       "                        break;\n",
       "                    }\n",
       "                }\n",
       "            }, 500);\n",
       "            "
      ],
      "text/plain": [
       "<IPython.core.display.Javascript object>"
      ]
     },
     "metadata": {},
     "output_type": "display_data"
    },
    {
     "name": "stdout",
     "output_type": "stream",
     "text": [
      "The history saving thread hit an unexpected error (OperationalError('database is locked')).History will not be written to the database.\n"
     ]
    }
   ],
   "source": [
    "sns.scatterplot(\n",
    "    x=\"log_claps\", y=\"log_responses\", data=df_est, hue=\"tldr\",\n",
    ")\n",
    "plt.errorbar(\n",
    "    \"log_claps\",\n",
    "    \"log_responses\",\n",
    "    yerr=\"ci\",\n",
    "    data=df_est.query(\"tldr==0\"),\n",
    "    ls=\"\",\n",
    "    lw=2,\n",
    "    alpha=0.7,\n",
    ")\n",
    "# ,color='green'\n",
    "plt.errorbar(\n",
    "    \"log_claps\",\n",
    "    \"log_responses\",\n",
    "    yerr=\"ci\",\n",
    "    data=df_est.query(\"tldr==1\"),\n",
    "    ls=\"\",\n",
    "    lw=2,\n",
    "    alpha=0.7,\n",
    ")\n",
    "sns.regplot(x=\"log_claps\", y=\"log_responses\", data=df_est, color=\"black\", scatter=False)\n",
    "plt.title(f\"Responses vs claps, log-log scale\\nTLDR cutoff = {tldr_cutoff} minutes\")\n",
    "plt.show()"
   ]
  },
  {
   "cell_type": "markdown",
   "id": "5a6eeeec",
   "metadata": {},
   "source": [
    "OBSERVATION: Longer read times lead to lower number of responses given the same number of claps (likes)"
   ]
  }
 ],
 "metadata": {
  "kernelspec": {
   "display_name": "Python 3.9.12",
   "language": "python",
   "name": "py3.9.12"
  },
  "language_info": {
   "codemirror_mode": {
    "name": "ipython",
    "version": 3
   },
   "file_extension": ".py",
   "mimetype": "text/x-python",
   "name": "python",
   "nbconvert_exporter": "python",
   "pygments_lexer": "ipython3",
   "version": "3.9.12"
  }
 },
 "nbformat": 4,
 "nbformat_minor": 5
}
